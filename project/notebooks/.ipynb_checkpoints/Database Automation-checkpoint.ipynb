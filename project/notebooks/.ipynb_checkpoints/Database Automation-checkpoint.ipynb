{
 "cells": [
  {
   "cell_type": "markdown",
   "id": "61353d05",
   "metadata": {},
   "source": [
    "# 0. Import"
   ]
  },
  {
   "cell_type": "code",
   "execution_count": 1,
   "id": "befe56c1",
   "metadata": {},
   "outputs": [],
   "source": [
    "import os\n",
    "import re\n",
    "import shutil\n",
    "import sqlite3\n",
    "import pandas as pd"
   ]
  },
  {
   "cell_type": "markdown",
   "id": "3b6e245a",
   "metadata": {},
   "source": [
    "# 1. Copy CSVs to New Dataset Folder"
   ]
  },
  {
   "cell_type": "code",
   "execution_count": 2,
   "id": "2dd9190c",
   "metadata": {},
   "outputs": [
    {
     "name": "stdout",
     "output_type": "stream",
     "text": [
      "Folder created successfully\n"
     ]
    }
   ],
   "source": [
    "# Make datasets folder\n",
    "\n",
    "os.chdir(\"../\")\n",
    "\n",
    "dataset_dir = 'datasets'\n",
    "\n",
    "try:\n",
    "    mkdir = 'mkdir {0}'.format(dataset_dir)\n",
    "    os.system(mkdir)\n",
    "    print(\"Folder created successfully\")\n",
    "except:\n",
    "    print(\"Directory already exists or there is another error\")"
   ]
  },
  {
   "cell_type": "code",
   "execution_count": 3,
   "id": "a0e338ad",
   "metadata": {},
   "outputs": [
    {
     "name": "stdout",
     "output_type": "stream",
     "text": [
      "Directory changed to csv folder\n"
     ]
    }
   ],
   "source": [
    "# Change directory\n",
    "\n",
    "os.chdir(\"csv\")\n",
    "print(\"Directory changed to csv folder\")"
   ]
  },
  {
   "cell_type": "code",
   "execution_count": 4,
   "id": "22824303",
   "metadata": {},
   "outputs": [
    {
     "name": "stdout",
     "output_type": "stream",
     "text": [
      "File 'Company Client List.csv' copied successfully\n",
      "File 'Company Orders.csv' copied successfully\n"
     ]
    }
   ],
   "source": [
    "# Copy CSVs into datasets folder\n",
    "\n",
    "src_dir = \".\"\n",
    "dst_dir = \"../datasets\"\n",
    "\n",
    "try:\n",
    "    for root, dirs, files in os.walk(src_dir):\n",
    "        for f in files:\n",
    "            if f.endswith('.csv'):\n",
    "                shutil.copy(os.path.join(root,f), dst_dir)\n",
    "            print(f\"File '{f}' copied successfully\")\n",
    "except:\n",
    "    print(\"There are no CSV files to copy\")"
   ]
  },
  {
   "cell_type": "markdown",
   "id": "e9405a22",
   "metadata": {},
   "source": [
    "# 2. Read Each CSV into a DataFrame"
   ]
  },
  {
   "cell_type": "code",
   "execution_count": 5,
   "id": "ec5d4160",
   "metadata": {},
   "outputs": [],
   "source": [
    "# Make list of CSVs\n",
    "\n",
    "csv_files = []\n",
    "\n",
    "for file in os.listdir(os.getcwd()):\n",
    "    if file.endswith('.csv'):\n",
    "        csv_files.append(file)"
   ]
  },
  {
   "cell_type": "code",
   "execution_count": 6,
   "id": "bc3bb911",
   "metadata": {},
   "outputs": [
    {
     "name": "stdout",
     "output_type": "stream",
     "text": [
      "Company Client List.csv read successfully\n",
      "Company Orders.csv read successfully\n"
     ]
    }
   ],
   "source": [
    "# Read CSVs \n",
    "\n",
    "data_path = '../'+dataset_dir+'/'\n",
    "\n",
    "df = {}\n",
    "for file in csv_files:\n",
    "    try:\n",
    "        df[file] = pd.read_csv(data_path+file)\n",
    "        print(f\"{file} read successfully\")\n",
    "    except UnicodeDecodeError:\n",
    "        df[file] = pd.read_csv(data_path+file, encoding=\"ISO-8859-1\")"
   ]
  },
  {
   "cell_type": "code",
   "execution_count": 7,
   "id": "6496e779",
   "metadata": {},
   "outputs": [
    {
     "data": {
      "text/plain": [
       "['Company Client List.csv', 'Company Orders.csv']"
      ]
     },
     "execution_count": 7,
     "metadata": {},
     "output_type": "execute_result"
    }
   ],
   "source": [
    "csv_files"
   ]
  },
  {
   "cell_type": "code",
   "execution_count": 8,
   "id": "fde6d44b",
   "metadata": {},
   "outputs": [
    {
     "data": {
      "text/html": [
       "<div>\n",
       "<style scoped>\n",
       "    .dataframe tbody tr th:only-of-type {\n",
       "        vertical-align: middle;\n",
       "    }\n",
       "\n",
       "    .dataframe tbody tr th {\n",
       "        vertical-align: top;\n",
       "    }\n",
       "\n",
       "    .dataframe thead th {\n",
       "        text-align: right;\n",
       "    }\n",
       "</style>\n",
       "<table border=\"1\" class=\"dataframe\">\n",
       "  <thead>\n",
       "    <tr style=\"text-align: right;\">\n",
       "      <th></th>\n",
       "      <th>client number</th>\n",
       "      <th>Company name</th>\n",
       "      <th>Contact first name</th>\n",
       "      <th>contact last name</th>\n",
       "      <th>Email</th>\n",
       "      <th>Phone</th>\n",
       "    </tr>\n",
       "  </thead>\n",
       "  <tbody>\n",
       "    <tr>\n",
       "      <th>0</th>\n",
       "      <td>100</td>\n",
       "      <td>Ainyx</td>\n",
       "      <td>Timmie</td>\n",
       "      <td>Axston</td>\n",
       "      <td>taxston1y@biblegateway.com</td>\n",
       "      <td>167-281-7420</td>\n",
       "    </tr>\n",
       "    <tr>\n",
       "      <th>1</th>\n",
       "      <td>101</td>\n",
       "      <td>Aivee</td>\n",
       "      <td>Melli</td>\n",
       "      <td>Bartolomeotti</td>\n",
       "      <td>mbartolomeotti25@webs.com</td>\n",
       "      <td>507-785-4101</td>\n",
       "    </tr>\n",
       "    <tr>\n",
       "      <th>2</th>\n",
       "      <td>102</td>\n",
       "      <td>Avamba</td>\n",
       "      <td>Deb</td>\n",
       "      <td>Petruszka</td>\n",
       "      <td>dpetruszkas@1und1.de</td>\n",
       "      <td>496-125-6029</td>\n",
       "    </tr>\n",
       "    <tr>\n",
       "      <th>3</th>\n",
       "      <td>103</td>\n",
       "      <td>Avaveo</td>\n",
       "      <td>Dick</td>\n",
       "      <td>Borgnol</td>\n",
       "      <td>dborgnol1m@sbwire.com</td>\n",
       "      <td>229-807-3736</td>\n",
       "    </tr>\n",
       "    <tr>\n",
       "      <th>4</th>\n",
       "      <td>104</td>\n",
       "      <td>Babbleopia</td>\n",
       "      <td>Bendick</td>\n",
       "      <td>Sawkin</td>\n",
       "      <td>bsawkinr@cbsnews.com</td>\n",
       "      <td>447-459-8541</td>\n",
       "    </tr>\n",
       "  </tbody>\n",
       "</table>\n",
       "</div>"
      ],
      "text/plain": [
       "   client number Company name Contact first name contact last name  \\\n",
       "0            100        Ainyx             Timmie            Axston   \n",
       "1            101        Aivee              Melli     Bartolomeotti   \n",
       "2            102       Avamba                Deb         Petruszka   \n",
       "3            103       Avaveo               Dick           Borgnol   \n",
       "4            104   Babbleopia            Bendick            Sawkin   \n",
       "\n",
       "                        Email         Phone  \n",
       "0  taxston1y@biblegateway.com  167-281-7420  \n",
       "1   mbartolomeotti25@webs.com  507-785-4101  \n",
       "2        dpetruszkas@1und1.de  496-125-6029  \n",
       "3       dborgnol1m@sbwire.com  229-807-3736  \n",
       "4        bsawkinr@cbsnews.com  447-459-8541  "
      ]
     },
     "execution_count": 8,
     "metadata": {},
     "output_type": "execute_result"
    }
   ],
   "source": [
    "# Check dfs\n",
    "\n",
    "df['Company Client List.csv'].head()"
   ]
  },
  {
   "cell_type": "code",
   "execution_count": 9,
   "id": "89d9cffa",
   "metadata": {},
   "outputs": [
    {
     "data": {
      "text/html": [
       "<div>\n",
       "<style scoped>\n",
       "    .dataframe tbody tr th:only-of-type {\n",
       "        vertical-align: middle;\n",
       "    }\n",
       "\n",
       "    .dataframe tbody tr th {\n",
       "        vertical-align: top;\n",
       "    }\n",
       "\n",
       "    .dataframe thead th {\n",
       "        text-align: right;\n",
       "    }\n",
       "</style>\n",
       "<table border=\"1\" class=\"dataframe\">\n",
       "  <thead>\n",
       "    <tr style=\"text-align: right;\">\n",
       "      <th></th>\n",
       "      <th>Company name</th>\n",
       "      <th>Order Number</th>\n",
       "      <th>Order amount</th>\n",
       "      <th>order date</th>\n",
       "      <th>paid?</th>\n",
       "    </tr>\n",
       "  </thead>\n",
       "  <tbody>\n",
       "    <tr>\n",
       "      <th>0</th>\n",
       "      <td>Zoomcast</td>\n",
       "      <td>485495</td>\n",
       "      <td>$2096568.72</td>\n",
       "      <td>2/21/2020</td>\n",
       "      <td>False</td>\n",
       "    </tr>\n",
       "    <tr>\n",
       "      <th>1</th>\n",
       "      <td>Buzzbean</td>\n",
       "      <td>175468</td>\n",
       "      <td>$1607033.03</td>\n",
       "      <td>6/10/2021</td>\n",
       "      <td>True</td>\n",
       "    </tr>\n",
       "    <tr>\n",
       "      <th>2</th>\n",
       "      <td>Twitternation</td>\n",
       "      <td>6841</td>\n",
       "      <td>$2938905.06</td>\n",
       "      <td>6/2/2021</td>\n",
       "      <td>False</td>\n",
       "    </tr>\n",
       "    <tr>\n",
       "      <th>3</th>\n",
       "      <td>Topiczoom</td>\n",
       "      <td>335932</td>\n",
       "      <td>$2687554.82</td>\n",
       "      <td>8/17/2021</td>\n",
       "      <td>True</td>\n",
       "    </tr>\n",
       "    <tr>\n",
       "      <th>4</th>\n",
       "      <td>Youbridge</td>\n",
       "      <td>81726</td>\n",
       "      <td>$2206870.49</td>\n",
       "      <td>12/17/2020</td>\n",
       "      <td>False</td>\n",
       "    </tr>\n",
       "  </tbody>\n",
       "</table>\n",
       "</div>"
      ],
      "text/plain": [
       "    Company name  Order Number Order amount  order date  paid?\n",
       "0       Zoomcast        485495  $2096568.72   2/21/2020  False\n",
       "1       Buzzbean        175468  $1607033.03   6/10/2021   True\n",
       "2  Twitternation          6841  $2938905.06    6/2/2021  False\n",
       "3      Topiczoom        335932  $2687554.82   8/17/2021   True\n",
       "4      Youbridge         81726  $2206870.49  12/17/2020  False"
      ]
     },
     "execution_count": 9,
     "metadata": {},
     "output_type": "execute_result"
    }
   ],
   "source": [
    "df['Company Orders.csv'].head()"
   ]
  },
  {
   "cell_type": "markdown",
   "id": "c47f0f29",
   "metadata": {},
   "source": [
    "# 3. Send Clean Version of DataFrame to Database"
   ]
  },
  {
   "cell_type": "code",
   "execution_count": 10,
   "id": "e29c2d2b",
   "metadata": {},
   "outputs": [
    {
     "data": {
      "text/plain": [
       "['csv',\n",
       " 'database',\n",
       " 'datasets',\n",
       " 'notebooks',\n",
       " 'original_csvs',\n",
       " 'python',\n",
       " 'tableau',\n",
       " 'test']"
      ]
     },
     "execution_count": 10,
     "metadata": {},
     "output_type": "execute_result"
    }
   ],
   "source": [
    "# Change directory\n",
    "\n",
    "os.chdir(\"..\")\n",
    "\n",
    "os.listdir(os.getcwd())"
   ]
  },
  {
   "cell_type": "code",
   "execution_count": 11,
   "id": "c50107cc",
   "metadata": {},
   "outputs": [
    {
     "name": "stdout",
     "output_type": "stream",
     "text": [
      "Folder created successfully\n"
     ]
    }
   ],
   "source": [
    "# Make database folder\n",
    "\n",
    "database_dir = 'database'\n",
    "\n",
    "try:\n",
    "    mkdir = 'mkdir {0}'.format(database_dir)\n",
    "    os.system(mkdir)\n",
    "    print(\"Folder created successfully\")\n",
    "except:\n",
    "    print(\"Directory already exists or there is another error\")"
   ]
  },
  {
   "cell_type": "code",
   "execution_count": 12,
   "id": "181165f1",
   "metadata": {},
   "outputs": [
    {
     "data": {
      "text/plain": [
       "['csv',\n",
       " 'database',\n",
       " 'datasets',\n",
       " 'notebooks',\n",
       " 'original_csvs',\n",
       " 'python',\n",
       " 'tableau',\n",
       " 'test']"
      ]
     },
     "execution_count": 12,
     "metadata": {},
     "output_type": "execute_result"
    }
   ],
   "source": [
    "os.listdir(os.getcwd())"
   ]
  },
  {
   "cell_type": "code",
   "execution_count": 13,
   "id": "56c86eeb",
   "metadata": {},
   "outputs": [
    {
     "name": "stdout",
     "output_type": "stream",
     "text": [
      "company_client_list was created successfully\n",
      "company_orders was created successfully\n"
     ]
    }
   ],
   "source": [
    "os.chdir(database_dir)\n",
    "\n",
    "for k in csv_files:    \n",
    "    dataframe = df[k]\n",
    "    \n",
    "    # Clean table name\n",
    "    clean_table_name = k.lower().replace(\" \", \"_\").replace(r\"/\"\"\\\\\", \"_\")\n",
    "    clean_table_name = re.sub(r'[^a-zA-Z0-9_.]','', clean_table_name)    \n",
    "    \n",
    "    #Clean table data\n",
    "    dataframe.columns = [x.lower().replace(\" \", \"_\").replace(r\"/\"\"\\\\\", \"_\").strip() for x in dataframe.columns]\n",
    "    dataframe.columns = dataframe.columns.str.replace('[^A-Za-z\\s_.]+', '', regex=True)\n",
    "    \n",
    "    table_name = '{0}'.format(clean_table_name.split('.')[0])\n",
    "    \n",
    "    # Change data types\n",
    "    new_dtypes = {\n",
    "    'object': 'varchar',\n",
    "    'float64': 'float',\n",
    "    'int64': 'int',\n",
    "    'datetime64': 'timestamp',\n",
    "    'timedelta64[ns]': 'varchar'\n",
    "    }\n",
    "    \n",
    "    col_strings = \", \".join(\"{} {}\".format(n, d) for (n, d) in zip(dataframe.columns, dataframe.dtypes.replace(new_dtypes)))\n",
    "    \n",
    "    # Write to db with SQLite\n",
    "    conn = sqlite3.connect('company.db')\n",
    "    c = conn.cursor()\n",
    "\n",
    "    c.execute('''\n",
    "    CREATE TABLE IF NOT EXISTS table_name (\n",
    "    col_strings    \n",
    "    )\n",
    "    ''')\n",
    "    print('{0} was created successfully'.format(table_name))\n",
    "    conn.commit()\n",
    "    \n",
    "    dataframe.to_sql(table_name, conn, if_exists='replace', index=False)\n",
    "    \n",
    "    conn.close()"
   ]
  },
  {
   "cell_type": "code",
   "execution_count": 14,
   "id": "63477514",
   "metadata": {},
   "outputs": [
    {
     "data": {
      "text/plain": [
       "['.ipynb_checkpoints', 'company.db']"
      ]
     },
     "execution_count": 14,
     "metadata": {},
     "output_type": "execute_result"
    }
   ],
   "source": [
    "os.listdir(os.getcwd())"
   ]
  },
  {
   "cell_type": "code",
   "execution_count": null,
   "id": "4a612b62",
   "metadata": {},
   "outputs": [],
   "source": []
  }
 ],
 "metadata": {
  "kernelspec": {
   "display_name": "Python 3 (ipykernel)",
   "language": "python",
   "name": "python3"
  },
  "language_info": {
   "codemirror_mode": {
    "name": "ipython",
    "version": 3
   },
   "file_extension": ".py",
   "mimetype": "text/x-python",
   "name": "python",
   "nbconvert_exporter": "python",
   "pygments_lexer": "ipython3",
   "version": "3.8.11"
  }
 },
 "nbformat": 4,
 "nbformat_minor": 5
}

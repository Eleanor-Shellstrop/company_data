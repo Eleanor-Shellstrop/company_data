{
 "cells": [
  {
   "cell_type": "markdown",
   "id": "61353d05",
   "metadata": {},
   "source": [
    "# 0. Import"
   ]
  },
  {
   "cell_type": "code",
   "execution_count": 1,
   "id": "befe56c1",
   "metadata": {},
   "outputs": [],
   "source": [
    "import os\n",
    "import re\n",
    "import shutil\n",
    "import sqlite3\n",
    "import pandas as pd"
   ]
  },
  {
   "cell_type": "markdown",
   "id": "3b6e245a",
   "metadata": {},
   "source": [
    "# 1. Copy CSVs to New Dataset Folder"
   ]
  },
  {
   "cell_type": "code",
   "execution_count": 2,
   "id": "2dd9190c",
   "metadata": {},
   "outputs": [
    {
     "name": "stdout",
     "output_type": "stream",
     "text": [
      "Folder created successfully\n"
     ]
    }
   ],
   "source": [
    "# Make datasets folder\n",
    "\n",
    "dataset_dir = 'datasets'\n",
    "\n",
    "try:\n",
    "    mkdir = 'mkdir {0}'.format(dataset_dir)\n",
    "    os.system(mkdir)\n",
    "    print(\"Folder created successfully\")\n",
    "except:\n",
    "    print(\"Directory already exists or there is another error\")"
   ]
  },
  {
   "cell_type": "code",
   "execution_count": 3,
   "id": "a0e338ad",
   "metadata": {},
   "outputs": [
    {
     "name": "stdout",
     "output_type": "stream",
     "text": [
      "Directory changed to csv folder\n"
     ]
    }
   ],
   "source": [
    "# Change directory\n",
    "\n",
    "os.chdir(\"csv\")\n",
    "print(\"Directory changed to csv folder\")"
   ]
  },
  {
   "cell_type": "code",
   "execution_count": 7,
   "id": "22824303",
   "metadata": {},
   "outputs": [
    {
     "name": "stdout",
     "output_type": "stream",
     "text": [
      "File 'Company Client List.csv' copied successfully\n",
      "File 'Company Orders.csv' copied successfully\n"
     ]
    }
   ],
   "source": [
    "# Copy CSVs into datasets folder\n",
    "\n",
    "src_dir = \".\"\n",
    "dst_dir = \"../datasets\"\n",
    "\n",
    "try:\n",
    "    for root, dirs, files in os.walk(src_dir):\n",
    "        for f in files:\n",
    "            if f.endswith('.csv'):\n",
    "                shutil.copy(os.path.join(root,f), dst_dir)\n",
    "            print(f\"File '{f}' copied successfully\")\n",
    "except:\n",
    "    print(\"There are no CSV files to copy\")"
   ]
  },
  {
   "cell_type": "markdown",
   "id": "e9405a22",
   "metadata": {},
   "source": [
    "# 2. Read Each CSV into a DataFrame"
   ]
  },
  {
   "cell_type": "code",
   "execution_count": 9,
   "id": "ec5d4160",
   "metadata": {},
   "outputs": [],
   "source": [
    "# Make list of CSVs\n",
    "\n",
    "csv_files = []\n",
    "\n",
    "for file in os.listdir(os.getcwd()):\n",
    "    if file.endswith('.csv'):\n",
    "        csv_files.append(file)"
   ]
  },
  {
   "cell_type": "code",
   "execution_count": 11,
   "id": "bc3bb911",
   "metadata": {},
   "outputs": [
    {
     "name": "stdout",
     "output_type": "stream",
     "text": [
      "Company Client List.csv read successfully\n",
      "Company Orders.csv read successfully\n"
     ]
    }
   ],
   "source": [
    "# Read CSVs \n",
    "\n",
    "data_path = '../'+dataset_dir+'/'\n",
    "\n",
    "df = {}\n",
    "for file in csv_files:\n",
    "    try:\n",
    "        df[file] = pd.read_csv(data_path+file)\n",
    "        print(f\"{file} read successfully\")\n",
    "    except UnicodeDecodeError:\n",
    "        df[file] = pd.read_csv(data_path+file, encoding=\"ISO-8859-1\")"
   ]
  },
  {
   "cell_type": "code",
   "execution_count": 12,
   "id": "6496e779",
   "metadata": {},
   "outputs": [
    {
     "data": {
      "text/plain": [
       "['Company Client List.csv', 'Company Orders.csv']"
      ]
     },
     "execution_count": 12,
     "metadata": {},
     "output_type": "execute_result"
    }
   ],
   "source": [
    "csv_files"
   ]
  },
  {
   "cell_type": "code",
   "execution_count": 15,
   "id": "fde6d44b",
   "metadata": {},
   "outputs": [
    {
     "data": {
      "text/html": [
       "<div>\n",
       "<style scoped>\n",
       "    .dataframe tbody tr th:only-of-type {\n",
       "        vertical-align: middle;\n",
       "    }\n",
       "\n",
       "    .dataframe tbody tr th {\n",
       "        vertical-align: top;\n",
       "    }\n",
       "\n",
       "    .dataframe thead th {\n",
       "        text-align: right;\n",
       "    }\n",
       "</style>\n",
       "<table border=\"1\" class=\"dataframe\">\n",
       "  <thead>\n",
       "    <tr style=\"text-align: right;\">\n",
       "      <th></th>\n",
       "      <th>id</th>\n",
       "      <th>company name</th>\n",
       "      <th>Contact First name</th>\n",
       "      <th>Contact Last name</th>\n",
       "      <th>Email</th>\n",
       "      <th>phone</th>\n",
       "    </tr>\n",
       "  </thead>\n",
       "  <tbody>\n",
       "    <tr>\n",
       "      <th>0</th>\n",
       "      <td>1</td>\n",
       "      <td>Avamba</td>\n",
       "      <td>Fanchon</td>\n",
       "      <td>Foye</td>\n",
       "      <td>ffoye0@reddit.com</td>\n",
       "      <td>274-998-7209</td>\n",
       "    </tr>\n",
       "    <tr>\n",
       "      <th>1</th>\n",
       "      <td>2</td>\n",
       "      <td>Avaveo</td>\n",
       "      <td>Galen</td>\n",
       "      <td>Lambdean</td>\n",
       "      <td>glambdean1@parallels.com</td>\n",
       "      <td>346-819-3046</td>\n",
       "    </tr>\n",
       "    <tr>\n",
       "      <th>2</th>\n",
       "      <td>3</td>\n",
       "      <td>Flipstorm</td>\n",
       "      <td>Candace</td>\n",
       "      <td>Pantling</td>\n",
       "      <td>cpantling2@cdbaby.com</td>\n",
       "      <td>923-161-4383</td>\n",
       "    </tr>\n",
       "    <tr>\n",
       "      <th>3</th>\n",
       "      <td>4</td>\n",
       "      <td>Photofeed</td>\n",
       "      <td>Cullen</td>\n",
       "      <td>Rubra</td>\n",
       "      <td>crubra3@theglobeandmail.com</td>\n",
       "      <td>579-775-6516</td>\n",
       "    </tr>\n",
       "    <tr>\n",
       "      <th>4</th>\n",
       "      <td>5</td>\n",
       "      <td>Demivee</td>\n",
       "      <td>Adamo</td>\n",
       "      <td>Matuszinski</td>\n",
       "      <td>amatuszinski4@topsy.com</td>\n",
       "      <td>677-300-0857</td>\n",
       "    </tr>\n",
       "  </tbody>\n",
       "</table>\n",
       "</div>"
      ],
      "text/plain": [
       "   id company name Contact First name Contact Last name  \\\n",
       "0   1       Avamba            Fanchon              Foye   \n",
       "1   2       Avaveo              Galen          Lambdean   \n",
       "2   3    Flipstorm            Candace          Pantling   \n",
       "3   4    Photofeed             Cullen             Rubra   \n",
       "4   5      Demivee              Adamo       Matuszinski   \n",
       "\n",
       "                         Email         phone  \n",
       "0            ffoye0@reddit.com  274-998-7209  \n",
       "1     glambdean1@parallels.com  346-819-3046  \n",
       "2        cpantling2@cdbaby.com  923-161-4383  \n",
       "3  crubra3@theglobeandmail.com  579-775-6516  \n",
       "4      amatuszinski4@topsy.com  677-300-0857  "
      ]
     },
     "execution_count": 15,
     "metadata": {},
     "output_type": "execute_result"
    }
   ],
   "source": [
    "# Check dfs\n",
    "\n",
    "df['Company Client List.csv'].head()"
   ]
  },
  {
   "cell_type": "code",
   "execution_count": 16,
   "id": "89d9cffa",
   "metadata": {},
   "outputs": [
    {
     "data": {
      "text/html": [
       "<div>\n",
       "<style scoped>\n",
       "    .dataframe tbody tr th:only-of-type {\n",
       "        vertical-align: middle;\n",
       "    }\n",
       "\n",
       "    .dataframe tbody tr th {\n",
       "        vertical-align: top;\n",
       "    }\n",
       "\n",
       "    .dataframe thead th {\n",
       "        text-align: right;\n",
       "    }\n",
       "</style>\n",
       "<table border=\"1\" class=\"dataframe\">\n",
       "  <thead>\n",
       "    <tr style=\"text-align: right;\">\n",
       "      <th></th>\n",
       "      <th>id</th>\n",
       "      <th>Company name</th>\n",
       "      <th>Order Number</th>\n",
       "      <th>Order amount</th>\n",
       "      <th>order date</th>\n",
       "      <th>paid?</th>\n",
       "    </tr>\n",
       "  </thead>\n",
       "  <tbody>\n",
       "    <tr>\n",
       "      <th>0</th>\n",
       "      <td>1</td>\n",
       "      <td>Miboo</td>\n",
       "      <td>453982</td>\n",
       "      <td>$87317.36</td>\n",
       "      <td>12/4/2020</td>\n",
       "      <td>False</td>\n",
       "    </tr>\n",
       "    <tr>\n",
       "      <th>1</th>\n",
       "      <td>2</td>\n",
       "      <td>Skiba</td>\n",
       "      <td>34634</td>\n",
       "      <td>$2878526.67</td>\n",
       "      <td>1/18/2022</td>\n",
       "      <td>False</td>\n",
       "    </tr>\n",
       "    <tr>\n",
       "      <th>2</th>\n",
       "      <td>3</td>\n",
       "      <td>Devpulse</td>\n",
       "      <td>681029</td>\n",
       "      <td>$2659083.12</td>\n",
       "      <td>2/2/2022</td>\n",
       "      <td>False</td>\n",
       "    </tr>\n",
       "    <tr>\n",
       "      <th>3</th>\n",
       "      <td>4</td>\n",
       "      <td>Shufflester</td>\n",
       "      <td>928473</td>\n",
       "      <td>$2139029.96</td>\n",
       "      <td>11/14/2021</td>\n",
       "      <td>True</td>\n",
       "    </tr>\n",
       "    <tr>\n",
       "      <th>4</th>\n",
       "      <td>5</td>\n",
       "      <td>Fliptune</td>\n",
       "      <td>915869</td>\n",
       "      <td>$250194.39</td>\n",
       "      <td>5/12/2020</td>\n",
       "      <td>True</td>\n",
       "    </tr>\n",
       "  </tbody>\n",
       "</table>\n",
       "</div>"
      ],
      "text/plain": [
       "   id Company name  Order Number Order amount  order date  paid?\n",
       "0   1        Miboo        453982    $87317.36   12/4/2020  False\n",
       "1   2        Skiba         34634  $2878526.67   1/18/2022  False\n",
       "2   3     Devpulse        681029  $2659083.12    2/2/2022  False\n",
       "3   4  Shufflester        928473  $2139029.96  11/14/2021   True\n",
       "4   5     Fliptune        915869   $250194.39   5/12/2020   True"
      ]
     },
     "execution_count": 16,
     "metadata": {},
     "output_type": "execute_result"
    }
   ],
   "source": [
    "df['Company Orders.csv'].head()"
   ]
  },
  {
   "cell_type": "markdown",
   "id": "c47f0f29",
   "metadata": {},
   "source": [
    "# 3. Send Clean Version of DataFrame to Database"
   ]
  },
  {
   "cell_type": "code",
   "execution_count": 21,
   "id": "e29c2d2b",
   "metadata": {},
   "outputs": [
    {
     "data": {
      "text/plain": [
       "['.git',\n",
       " '.ipynb_checkpoints',\n",
       " 'csv',\n",
       " 'Database Automation.ipynb',\n",
       " 'datasets',\n",
       " 'original_csvs',\n",
       " 'README.md']"
      ]
     },
     "execution_count": 21,
     "metadata": {},
     "output_type": "execute_result"
    }
   ],
   "source": [
    "# Change directory\n",
    "\n",
    "os.chdir(\"..\")\n",
    "\n",
    "os.listdir(os.getcwd())"
   ]
  },
  {
   "cell_type": "code",
   "execution_count": 22,
   "id": "c50107cc",
   "metadata": {},
   "outputs": [
    {
     "name": "stdout",
     "output_type": "stream",
     "text": [
      "Folder created successfully\n"
     ]
    }
   ],
   "source": [
    "# Make datasets folder\n",
    "\n",
    "database_dir = 'database'\n",
    "\n",
    "try:\n",
    "    mkdir = 'mkdir {0}'.format(database_dir)\n",
    "    os.system(mkdir)\n",
    "    print(\"Folder created successfully\")\n",
    "except:\n",
    "    print(\"Directory already exists or there is another error\")"
   ]
  },
  {
   "cell_type": "code",
   "execution_count": 25,
   "id": "56c86eeb",
   "metadata": {},
   "outputs": [
    {
     "name": "stdout",
     "output_type": "stream",
     "text": [
      "company_client_list was created successfully\n",
      "company_orders was created successfully\n"
     ]
    }
   ],
   "source": [
    "os.chdir(database_dir)\n",
    "\n",
    "for k in csv_files:    \n",
    "    dataframe = df[k]\n",
    "    \n",
    "    # Clean table name\n",
    "    clean_table_name = k.lower().replace(\" \", \"_\").replace(r\"/\"\"\\\\\", \"_\")\n",
    "    clean_table_name = re.sub(r'[^a-zA-Z0-9_.]','', clean_table_name)    \n",
    "    \n",
    "    #Clean table data\n",
    "    dataframe.columns = [x.lower().replace(\" \", \"_\").replace(r\"/\"\"\\\\\", \"_\").strip() for x in dataframe.columns]\n",
    "    dataframe.columns = dataframe.columns.str.replace('[^A-Za-z\\s_.]+', '', regex=True)\n",
    "    \n",
    "    table_name = '{0}'.format(clean_table_name.split('.')[0])\n",
    "    \n",
    "    # Change data types\n",
    "    new_dtypes = {\n",
    "    'object': 'varchar',\n",
    "    'float64': 'float',\n",
    "    'int64': 'int',\n",
    "    'datetime64': 'timestamp',\n",
    "    'timedelta64[ns]': 'varchar'\n",
    "    }\n",
    "    \n",
    "    col_strings = \", \".join(\"{} {}\".format(n, d) for (n, d) in zip(dataframe.columns, dataframe.dtypes.replace(new_dtypes)))\n",
    "    \n",
    "    # Write to db with SQLite\n",
    "    conn = sqlite3.connect('company')\n",
    "    c = conn.cursor()\n",
    "\n",
    "    c.execute('''\n",
    "    CREATE TABLE IF NOT EXISTS table_name (\n",
    "    col_strings    \n",
    "    )\n",
    "    ''')\n",
    "    print('{0} was created successfully'.format(table_name))\n",
    "    conn.commit()\n",
    "    \n",
    "    dataframe.to_sql(table_name, conn, if_exists='replace', index=False)\n",
    "    \n",
    "    conn.close()"
   ]
  }
 ],
 "metadata": {
  "kernelspec": {
   "display_name": "Python 3 (ipykernel)",
   "language": "python",
   "name": "python3"
  },
  "language_info": {
   "codemirror_mode": {
    "name": "ipython",
    "version": 3
   },
   "file_extension": ".py",
   "mimetype": "text/x-python",
   "name": "python",
   "nbconvert_exporter": "python",
   "pygments_lexer": "ipython3",
   "version": "3.8.11"
  }
 },
 "nbformat": 4,
 "nbformat_minor": 5
}

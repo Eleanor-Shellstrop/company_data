{
 "cells": [
  {
   "cell_type": "markdown",
   "id": "464b1c2e",
   "metadata": {},
   "source": [
    "# 0. Import"
   ]
  },
  {
   "cell_type": "code",
   "execution_count": 1,
   "id": "eb12254f",
   "metadata": {},
   "outputs": [],
   "source": [
    "import os\n",
    "import re\n",
    "import shutil\n",
    "import sqlite3\n",
    "import pandas as pd"
   ]
  },
  {
   "cell_type": "markdown",
   "id": "8006ecbd",
   "metadata": {},
   "source": [
    "# 1. Copy CSVs to New Dataset Folder"
   ]
  },
  {
   "cell_type": "code",
   "execution_count": 2,
   "id": "fd27fafa",
   "metadata": {},
   "outputs": [
    {
     "name": "stdout",
     "output_type": "stream",
     "text": [
      "Folder created successfully\n"
     ]
    }
   ],
   "source": [
    "# Make datasets folder\n",
    "\n",
    "dataset_dir = 'datasets'\n",
    "\n",
    "try:\n",
    "    mkdir = 'mkdir {0}'.format(dataset_dir)\n",
    "    os.system(mkdir)\n",
    "    print(\"Folder created successfully\")\n",
    "except:\n",
    "    print(\"Directory already exists or there is another error\")"
   ]
  },
  {
   "cell_type": "code",
   "execution_count": 3,
   "id": "126ccb32",
   "metadata": {},
   "outputs": [
    {
     "name": "stdout",
     "output_type": "stream",
     "text": [
      "Directory changed to csv folder\n"
     ]
    }
   ],
   "source": [
    "# Change directory\n",
    "\n",
    "os.chdir(\"csv\")\n",
    "print(\"Directory changed to csv folder\")"
   ]
  },
  {
   "cell_type": "code",
   "execution_count": 7,
   "id": "e1e8e299",
   "metadata": {},
   "outputs": [
    {
     "name": "stdout",
     "output_type": "stream",
     "text": [
      "File 'Company Client List.csv' copied successfully\n",
      "File 'Company Orders.csv' copied successfully\n"
     ]
    }
   ],
   "source": [
    "# Copy CSVs into datasets folder\n",
    "\n",
    "src_dir = \".\"\n",
    "dst_dir = \"../datasets\"\n",
    "\n",
    "try:\n",
    "    for root, dirs, files in os.walk(src_dir):\n",
    "        for f in files:\n",
    "            if f.endswith('.csv'):\n",
    "                shutil.copy(os.path.join(root,f), dst_dir)\n",
    "            print(f\"File '{f}' copied successfully\")\n",
    "except:\n",
    "    print(\"There are no CSV files to copy\")"
   ]
  },
  {
   "cell_type": "code",
   "execution_count": null,
   "id": "d9342dbb",
   "metadata": {},
   "outputs": [],
   "source": [
    "# 2. Read Each CSV into a DataFrame"
   ]
  }
 ],
 "metadata": {
  "kernelspec": {
   "display_name": "Python 3 (ipykernel)",
   "language": "python",
   "name": "python3"
  },
  "language_info": {
   "codemirror_mode": {
    "name": "ipython",
    "version": 3
   },
   "file_extension": ".py",
   "mimetype": "text/x-python",
   "name": "python",
   "nbconvert_exporter": "python",
   "pygments_lexer": "ipython3",
   "version": "3.8.11"
  }
 },
 "nbformat": 4,
 "nbformat_minor": 5
}
